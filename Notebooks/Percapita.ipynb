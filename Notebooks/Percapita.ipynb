{
 "cells": [
  {
   "cell_type": "code",
   "execution_count": 1,
   "id": "168dd53a",
   "metadata": {},
   "outputs": [],
   "source": [
    "import pandas as pd  \n",
    "import numpy as np \n",
    "import matplotlib.pyplot as plt \n",
    "import seaborn as sns"
   ]
  },
  {
   "cell_type": "code",
   "execution_count": 2,
   "id": "addf4309",
   "metadata": {},
   "outputs": [],
   "source": [
    "gdp_df = pd.read_csv('../Data/gdp_percapita.csv')"
   ]
  },
  {
   "cell_type": "code",
   "execution_count": 3,
   "id": "a121d4e7",
   "metadata": {
    "scrolled": true
   },
   "outputs": [
    {
     "data": {
      "text/html": [
       "<div>\n",
       "<style scoped>\n",
       "    .dataframe tbody tr th:only-of-type {\n",
       "        vertical-align: middle;\n",
       "    }\n",
       "\n",
       "    .dataframe tbody tr th {\n",
       "        vertical-align: top;\n",
       "    }\n",
       "\n",
       "    .dataframe thead th {\n",
       "        text-align: right;\n",
       "    }\n",
       "</style>\n",
       "<table border=\"1\" class=\"dataframe\">\n",
       "  <thead>\n",
       "    <tr style=\"text-align: right;\">\n",
       "      <th></th>\n",
       "      <th>Country or Area</th>\n",
       "      <th>Year</th>\n",
       "      <th>Value</th>\n",
       "      <th>Value Footnotes</th>\n",
       "    </tr>\n",
       "  </thead>\n",
       "  <tbody>\n",
       "    <tr>\n",
       "      <th>0</th>\n",
       "      <td>Afghanistan</td>\n",
       "      <td>2021</td>\n",
       "      <td>1517.016266</td>\n",
       "      <td>NaN</td>\n",
       "    </tr>\n",
       "    <tr>\n",
       "      <th>1</th>\n",
       "      <td>Afghanistan</td>\n",
       "      <td>2020</td>\n",
       "      <td>1968.341002</td>\n",
       "      <td>NaN</td>\n",
       "    </tr>\n",
       "    <tr>\n",
       "      <th>2</th>\n",
       "      <td>Afghanistan</td>\n",
       "      <td>2019</td>\n",
       "      <td>2079.921861</td>\n",
       "      <td>NaN</td>\n",
       "    </tr>\n",
       "    <tr>\n",
       "      <th>3</th>\n",
       "      <td>Afghanistan</td>\n",
       "      <td>2018</td>\n",
       "      <td>2060.698973</td>\n",
       "      <td>NaN</td>\n",
       "    </tr>\n",
       "    <tr>\n",
       "      <th>4</th>\n",
       "      <td>Afghanistan</td>\n",
       "      <td>2017</td>\n",
       "      <td>2096.093111</td>\n",
       "      <td>NaN</td>\n",
       "    </tr>\n",
       "    <tr>\n",
       "      <th>...</th>\n",
       "      <td>...</td>\n",
       "      <td>...</td>\n",
       "      <td>...</td>\n",
       "      <td>...</td>\n",
       "    </tr>\n",
       "    <tr>\n",
       "      <th>7657</th>\n",
       "      <td>Zimbabwe</td>\n",
       "      <td>1994</td>\n",
       "      <td>2670.106615</td>\n",
       "      <td>NaN</td>\n",
       "    </tr>\n",
       "    <tr>\n",
       "      <th>7658</th>\n",
       "      <td>Zimbabwe</td>\n",
       "      <td>1993</td>\n",
       "      <td>2458.783255</td>\n",
       "      <td>NaN</td>\n",
       "    </tr>\n",
       "    <tr>\n",
       "      <th>7659</th>\n",
       "      <td>Zimbabwe</td>\n",
       "      <td>1992</td>\n",
       "      <td>2468.278257</td>\n",
       "      <td>NaN</td>\n",
       "    </tr>\n",
       "    <tr>\n",
       "      <th>7660</th>\n",
       "      <td>Zimbabwe</td>\n",
       "      <td>1991</td>\n",
       "      <td>2781.787843</td>\n",
       "      <td>NaN</td>\n",
       "    </tr>\n",
       "    <tr>\n",
       "      <th>7661</th>\n",
       "      <td>Zimbabwe</td>\n",
       "      <td>1990</td>\n",
       "      <td>2704.757299</td>\n",
       "      <td>NaN</td>\n",
       "    </tr>\n",
       "  </tbody>\n",
       "</table>\n",
       "<p>7662 rows × 4 columns</p>\n",
       "</div>"
      ],
      "text/plain": [
       "     Country or Area  Year        Value  Value Footnotes\n",
       "0        Afghanistan  2021  1517.016266              NaN\n",
       "1        Afghanistan  2020  1968.341002              NaN\n",
       "2        Afghanistan  2019  2079.921861              NaN\n",
       "3        Afghanistan  2018  2060.698973              NaN\n",
       "4        Afghanistan  2017  2096.093111              NaN\n",
       "...              ...   ...          ...              ...\n",
       "7657        Zimbabwe  1994  2670.106615              NaN\n",
       "7658        Zimbabwe  1993  2458.783255              NaN\n",
       "7659        Zimbabwe  1992  2468.278257              NaN\n",
       "7660        Zimbabwe  1991  2781.787843              NaN\n",
       "7661        Zimbabwe  1990  2704.757299              NaN\n",
       "\n",
       "[7662 rows x 4 columns]"
      ]
     },
     "execution_count": 3,
     "metadata": {},
     "output_type": "execute_result"
    }
   ],
   "source": [
    "gdp_df"
   ]
  },
  {
   "cell_type": "markdown",
   "id": "64df7966",
   "metadata": {},
   "source": [
    "5. How many rows and columns are in gdp_d ? 7662 rows × 4 columns. What are the data types of each column? \n",
    "\n",
    " 0   Country or Area  7662 non-null   object \n",
    " 1   Year             7662 non-null   int64  \n",
    " 2   Value            7662 non-null   float64\n",
    " 3   Value Footnotes  0 non-null      float64"
   ]
  },
  {
   "cell_type": "code",
   "execution_count": 4,
   "id": "c9fe2317",
   "metadata": {
    "scrolled": false
   },
   "outputs": [
    {
     "name": "stdout",
     "output_type": "stream",
     "text": [
      "<class 'pandas.core.frame.DataFrame'>\n",
      "RangeIndex: 7662 entries, 0 to 7661\n",
      "Data columns (total 4 columns):\n",
      " #   Column           Non-Null Count  Dtype  \n",
      "---  ------           --------------  -----  \n",
      " 0   Country or Area  7662 non-null   object \n",
      " 1   Year             7662 non-null   int64  \n",
      " 2   Value            7662 non-null   float64\n",
      " 3   Value Footnotes  0 non-null      float64\n",
      "dtypes: float64(2), int64(1), object(1)\n",
      "memory usage: 239.6+ KB\n"
     ]
    }
   ],
   "source": [
    "gdp_df.info()"
   ]
  },
  {
   "cell_type": "markdown",
   "id": "8a16dbea",
   "metadata": {},
   "source": [
    "6. Drop the 'Value Footnotes' column and rename the remaining three to 'Country', 'Year', and 'GDP_Per_Capita'."
   ]
  },
  {
   "cell_type": "code",
   "execution_count": 5,
   "id": "f5a3ff4b",
   "metadata": {},
   "outputs": [],
   "source": [
    "gdp_df = gdp_df.rename(columns={'Value':'GDP_Per_Capita','Country or Area':\"Country\"})"
   ]
  },
  {
   "cell_type": "code",
   "execution_count": 10,
   "id": "fb063b44",
   "metadata": {},
   "outputs": [
    {
     "data": {
      "text/html": [
       "<div>\n",
       "<style scoped>\n",
       "    .dataframe tbody tr th:only-of-type {\n",
       "        vertical-align: middle;\n",
       "    }\n",
       "\n",
       "    .dataframe tbody tr th {\n",
       "        vertical-align: top;\n",
       "    }\n",
       "\n",
       "    .dataframe thead th {\n",
       "        text-align: right;\n",
       "    }\n",
       "</style>\n",
       "<table border=\"1\" class=\"dataframe\">\n",
       "  <thead>\n",
       "    <tr style=\"text-align: right;\">\n",
       "      <th></th>\n",
       "      <th>Country</th>\n",
       "      <th>Year</th>\n",
       "      <th>GDP_Per_Capita</th>\n",
       "    </tr>\n",
       "  </thead>\n",
       "  <tbody>\n",
       "    <tr>\n",
       "      <th>0</th>\n",
       "      <td>Afghanistan</td>\n",
       "      <td>2021</td>\n",
       "      <td>1517.016266</td>\n",
       "    </tr>\n",
       "    <tr>\n",
       "      <th>1</th>\n",
       "      <td>Afghanistan</td>\n",
       "      <td>2020</td>\n",
       "      <td>1968.341002</td>\n",
       "    </tr>\n",
       "    <tr>\n",
       "      <th>2</th>\n",
       "      <td>Afghanistan</td>\n",
       "      <td>2019</td>\n",
       "      <td>2079.921861</td>\n",
       "    </tr>\n",
       "    <tr>\n",
       "      <th>3</th>\n",
       "      <td>Afghanistan</td>\n",
       "      <td>2018</td>\n",
       "      <td>2060.698973</td>\n",
       "    </tr>\n",
       "    <tr>\n",
       "      <th>4</th>\n",
       "      <td>Afghanistan</td>\n",
       "      <td>2017</td>\n",
       "      <td>2096.093111</td>\n",
       "    </tr>\n",
       "    <tr>\n",
       "      <th>...</th>\n",
       "      <td>...</td>\n",
       "      <td>...</td>\n",
       "      <td>...</td>\n",
       "    </tr>\n",
       "    <tr>\n",
       "      <th>7657</th>\n",
       "      <td>Zimbabwe</td>\n",
       "      <td>1994</td>\n",
       "      <td>2670.106615</td>\n",
       "    </tr>\n",
       "    <tr>\n",
       "      <th>7658</th>\n",
       "      <td>Zimbabwe</td>\n",
       "      <td>1993</td>\n",
       "      <td>2458.783255</td>\n",
       "    </tr>\n",
       "    <tr>\n",
       "      <th>7659</th>\n",
       "      <td>Zimbabwe</td>\n",
       "      <td>1992</td>\n",
       "      <td>2468.278257</td>\n",
       "    </tr>\n",
       "    <tr>\n",
       "      <th>7660</th>\n",
       "      <td>Zimbabwe</td>\n",
       "      <td>1991</td>\n",
       "      <td>2781.787843</td>\n",
       "    </tr>\n",
       "    <tr>\n",
       "      <th>7661</th>\n",
       "      <td>Zimbabwe</td>\n",
       "      <td>1990</td>\n",
       "      <td>2704.757299</td>\n",
       "    </tr>\n",
       "  </tbody>\n",
       "</table>\n",
       "<p>7662 rows × 3 columns</p>\n",
       "</div>"
      ],
      "text/plain": [
       "          Country  Year  GDP_Per_Capita\n",
       "0     Afghanistan  2021     1517.016266\n",
       "1     Afghanistan  2020     1968.341002\n",
       "2     Afghanistan  2019     2079.921861\n",
       "3     Afghanistan  2018     2060.698973\n",
       "4     Afghanistan  2017     2096.093111\n",
       "...           ...   ...             ...\n",
       "7657     Zimbabwe  1994     2670.106615\n",
       "7658     Zimbabwe  1993     2458.783255\n",
       "7659     Zimbabwe  1992     2468.278257\n",
       "7660     Zimbabwe  1991     2781.787843\n",
       "7661     Zimbabwe  1990     2704.757299\n",
       "\n",
       "[7662 rows x 3 columns]"
      ]
     },
     "execution_count": 10,
     "metadata": {},
     "output_type": "execute_result"
    }
   ],
   "source": [
    "gdp_df"
   ]
  },
  {
   "cell_type": "code",
   "execution_count": 7,
   "id": "e356d992",
   "metadata": {},
   "outputs": [],
   "source": [
    "gdp_df = gdp_df.drop('Value Footnotes', axis=1)"
   ]
  },
  {
   "cell_type": "code",
   "execution_count": 38,
   "id": "88e7fba8",
   "metadata": {},
   "outputs": [
    {
     "name": "stdout",
     "output_type": "stream",
     "text": [
      "33\n"
     ]
    }
   ],
   "source": [
    "unique_years = gdp_df[\"Year\"].nunique()\n",
    "print(unique_years)"
   ]
  },
  {
   "cell_type": "code",
   "execution_count": 64,
   "id": "72477b04",
   "metadata": {},
   "outputs": [
    {
     "name": "stdout",
     "output_type": "stream",
     "text": [
      "Country\n",
      "Afghanistan                    20\n",
      "Africa Eastern and Southern    33\n",
      "Africa Western and Central     33\n",
      "Albania                        33\n",
      "Algeria                        33\n",
      "                               ..\n",
      "Viet Nam                       33\n",
      "West Bank and Gaza             29\n",
      "World                          33\n",
      "Zambia                         33\n",
      "Zimbabwe                       33\n",
      "Name: Year, Length: 242, dtype: int64\n"
     ]
    }
   ],
   "source": [
    "country_years = gdp_df.groupby([\"Country\"])[\"Year\"].count()\n",
    "print(country_years)"
   ]
  },
  {
   "cell_type": "markdown",
   "id": "6aed0d2b",
   "metadata": {},
   "source": [
    "7. How many countries have data for all years? Which countries are missing many years of data? Look at the number of observations per year. What do you notice? "
   ]
  },
  {
   "cell_type": "code",
   "execution_count": 112,
   "id": "300f5be4",
   "metadata": {
    "scrolled": true
   },
   "outputs": [
    {
     "name": "stdout",
     "output_type": "stream",
     "text": [
      "202\n"
     ]
    }
   ],
   "source": [
    "country_count_all = gdp_df.groupby(\"Country\").filter(lambda x: x.Year.count()== unique_years)\n",
    "print(country_count_all[\"Country\"].nunique())"
   ]
  },
  {
   "cell_type": "code",
   "execution_count": 131,
   "id": "0208684d",
   "metadata": {},
   "outputs": [
    {
     "name": "stdout",
     "output_type": "stream",
     "text": [
      "Country\n",
      "Afghanistan                  1\n",
      "Aruba                        1\n",
      "Bhutan                       1\n",
      "Bosnia and Herzegovina       1\n",
      "Cambodia                     1\n",
      "Cayman Islands               1\n",
      "Croatia                      1\n",
      "CuraÃ§ao                     1\n",
      "Djibouti                     1\n",
      "Estonia                      1\n",
      "Hungary                      1\n",
      "Iceland                      1\n",
      "Israel                       1\n",
      "Kosovo                       1\n",
      "Kuwait                       1\n",
      "Latvia                       1\n",
      "Lebanon                      1\n",
      "Liberia                      1\n",
      "Libya                        1\n",
      "Lithuania                    1\n",
      "Maldives                     1\n",
      "Moldova                      1\n",
      "Montenegro                   1\n",
      "Nauru                        1\n",
      "Other small states           1\n",
      "Palau                        1\n",
      "Qatar                        1\n",
      "San Marino                   1\n",
      "Serbia                       1\n",
      "Sint Maarten (Dutch part)    1\n",
      "Slovak Republic              1\n",
      "Slovenia                     1\n",
      "Small states                 1\n",
      "Somalia                      1\n",
      "SÃ£o TomÃ© and Principe      1\n",
      "Timor-Leste                  1\n",
      "Tonga                        1\n",
      "Turkmenistan                 1\n",
      "Turks and Caicos Islands     1\n",
      "West Bank and Gaza           1\n",
      "Name: Country, dtype: int64\n"
     ]
    }
   ],
   "source": [
    "country_count_missing = gdp_df.groupby(\"Country\").filter(lambda x: x.Year.count()!= unique_years)\n",
    "country_unique = country_count_missing.groupby([\"Country\"])#.nunique()\n",
    "print(country_unique[\"Country\"].nunique())"
   ]
  },
  {
   "cell_type": "markdown",
   "id": "2dd1715b",
   "metadata": {},
   "source": [
    "8.In this question, you're going to create some plots to show the distribution of GDP per capita for the year 2020. Go to the Python Graph Gallery (https://www.python-graph-gallery.com/) and look at the different types of plots under the Distribution section. Create a histogram, a density plot, a boxplot, and a violin plot. What do you notice when you look at these plots? How do the plots compare and what information can you get out of one type that you can't necessarily get out of the others?"
   ]
  },
  {
   "cell_type": "code",
   "execution_count": 149,
   "id": "97c04bd2",
   "metadata": {},
   "outputs": [
    {
     "data": {
      "image/png": "[encoded data removed]",
      "text/plain": [
       "<Figure size 640x480 with 1 Axes>"
      ]
     },
     "metadata": {},
     "output_type": "display_data"
    }
   ],
   "source": [
    "hist = sns.histplot(gdp_df,x = \"Country\", y = \"GDP_Per_Capita\")"
   ]
  },
  {
   "cell_type": "code",
   "execution_count": null,
   "id": "b0418b60",
   "metadata": {},
   "outputs": [],
   "source": []
  }
 ],
 "metadata": {
  "kernelspec": {
   "display_name": "Python 3 (ipykernel)",
   "language": "python",
   "name": "python3"
  },
  "language_info": {
   "codemirror_mode": {
    "name": "ipython",
    "version": 3
   },
   "file_extension": ".py",
   "mimetype": "text/x-python",
   "name": "python",
   "nbconvert_exporter": "python",
   "pygments_lexer": "ipython3",
   "version": "3.10.9"
  }
 },
 "nbformat": 4,
 "nbformat_minor": 5
}
